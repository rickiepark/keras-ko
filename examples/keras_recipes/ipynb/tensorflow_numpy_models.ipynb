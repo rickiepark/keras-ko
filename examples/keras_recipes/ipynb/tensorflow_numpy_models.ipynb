{
 "cells": [
  {
   "cell_type": "markdown",
   "metadata": {
    "colab_type": "text"
   },
   "source": [
    "# Writing Keras Models With TensorFlow NumPy\n",
    "\n",
    "**Author:** lukewood<br>\n",
    "**Date created:** 2021/08/28<br>\n",
    "**Last modified:** 2021/08/28<br>\n",
    "**Description:** Overview of how to use the TensorFlow NumPy API to write Keras models."
   ]
  },
  {
   "cell_type": "markdown",
   "metadata": {
    "colab_type": "text"
   },
   "source": [
    "## Introduction\n",
    "\n",
    "[NumPy](https://numpy.org/) is a hugely successful Python linear algebra library.\n",
    "\n",
    "TensorFlow recently launched [tf_numpy](https://www.tensorflow.org/guide/tf_numpy), a\n",
    "TensorFlow implementation of a large subset of the NumPy API.\n",
    "Thanks to `tf_numpy`, you can write Keras layers or models in the NumPy style!\n",
    "\n",
    "The TensorFlow NumPy API has full integration with the TensorFlow ecosystem.\n",
    "Features such as automatic differentiation, TensorBoard, Keras model callbacks,\n",
    "TPU distribution and model exporting are all supported.\n",
    "\n",
    "Let's run through a few examples."
   ]
  },
  {
   "cell_type": "markdown",
   "metadata": {
    "colab_type": "text"
   },
   "source": [
    "## Setup\n",
    "TensorFlow NumPy requires TensorFlow 2.5 or later."
   ]
  },
  {
   "cell_type": "code",
   "execution_count": 0,
   "metadata": {
    "colab_type": "code"
   },
   "outputs": [],
   "source": [
    "import tensorflow as tf\n",
    "import tensorflow.experimental.numpy as tnp\n",
    "import keras\n",
    "import keras.layers as layers\n",
    "import numpy as np"
   ]
  },
  {
   "cell_type": "markdown",
   "metadata": {
    "colab_type": "text"
   },
   "source": [
    "Optionally, you can call `tnp.experimental_enable_numpy_behavior()` to enable type promotion in TensorFlow.\n",
    "This allows TNP to more closely follow the NumPy standard."
   ]
  },
  {
   "cell_type": "code",
   "execution_count": 0,
   "metadata": {
    "colab_type": "code"
   },
   "outputs": [],
   "source": [
    "tnp.experimental_enable_numpy_behavior()"
   ]
  },
  {
   "cell_type": "markdown",
   "metadata": {
    "colab_type": "text"
   },
   "source": [
    "To test our models we will use the Boston housing prices regression dataset."
   ]
  },
  {
   "cell_type": "code",
   "execution_count": 0,
   "metadata": {
    "colab_type": "code"
   },
   "outputs": [],
   "source": [
    "(x_train, y_train), (x_test, y_test) = tf.keras.datasets.boston_housing.load_data(\n",
    "    path=\"boston_housing.npz\", test_split=0.2, seed=113\n",
    ")\n",
    "\n",
    "\n",
    "def evaluate_model(model: keras.Model):\n",
    "    [loss, percent_error] = model.evaluate(x_test, y_test, verbose=0)\n",
    "    print(\"Mean absolute percent error before training: \", percent_error)\n",
    "    model.fit(x_train, y_train, epochs=200, verbose=0)\n",
    "    [loss, percent_error] = model.evaluate(x_test, y_test, verbose=0)\n",
    "    print(\"Mean absolute percent error after training:\", percent_error)\n",
    ""
   ]
  },
  {
   "cell_type": "markdown",
   "metadata": {
    "colab_type": "text"
   },
   "source": [
    "## Subclassing keras.Model with TNP\n",
    "\n",
    "The most flexible way to make use of the Keras API is to subclass the\n",
    "[`keras.Model`](https://keras.io/api/models/model/) class.  Subclassing the Model class\n",
    "gives you the ability to fully customize what occurs in the training loop.  This makes\n",
    "subclassing Model a popular option for researchers.\n",
    "\n",
    "In this example, we will implement a `Model` subclass that performs regression over the\n",
    "boston housing dataset using the TNP API.  Note that differentiation and gradient\n",
    "descent is handled automatically when using the TNP API alongside keras.\n",
    "\n",
    "First let's define a simple `TNPForwardFeedRegressionNetwork` class."
   ]
  },
  {
   "cell_type": "code",
   "execution_count": 0,
   "metadata": {
    "colab_type": "code"
   },
   "outputs": [],
   "source": [
    "\n",
    "class TNPForwardFeedRegressionNetwork(keras.Model):\n",
    "    def __init__(self, blocks=None, **kwargs):\n",
    "        super(TNPForwardFeedRegressionNetwork, self).__init__(**kwargs)\n",
    "        if not isinstance(blocks, list):\n",
    "            raise ValueError(f\"blocks must be a list, got blocks={blocks}\")\n",
    "        self.blocks = blocks\n",
    "        self.block_weights = None\n",
    "        self.biases = None\n",
    "\n",
    "    def build(self, input_shape):\n",
    "        current_shape = input_shape[1]\n",
    "        self.block_weights = []\n",
    "        self.biases = []\n",
    "        for i, block in enumerate(self.blocks):\n",
    "            self.block_weights.append(\n",
    "                self.add_weight(\n",
    "                    shape=(current_shape, block), trainable=True, name=f\"block-{i}\"\n",
    "                )\n",
    "            )\n",
    "            self.biases.append(\n",
    "                self.add_weight(shape=(block,), trainable=True, name=f\"bias-{i}\")\n",
    "            )\n",
    "            current_shape = block\n",
    "\n",
    "        self.linear_layer = self.add_weight(\n",
    "            shape=(current_shape, 1), name=\"linear_projector\", trainable=True\n",
    "        )\n",
    "\n",
    "    def call(self, inputs):\n",
    "        activations = inputs\n",
    "        for w, b in zip(self.block_weights, self.biases):\n",
    "            activations = tnp.matmul(activations, w) + b\n",
    "            # ReLu activation function\n",
    "            activations = tnp.maximum(activations, 0.0)\n",
    "\n",
    "        return tnp.matmul(activations, self.linear_layer)\n",
    ""
   ]
  },
  {
   "cell_type": "markdown",
   "metadata": {
    "colab_type": "text"
   },
   "source": [
    "Just like with any other Keras model we can utilize any supported optimizer, loss,\n",
    "metrics or callbacks that we want.\n",
    "\n",
    "Let's see how the model performs!"
   ]
  },
  {
   "cell_type": "code",
   "execution_count": 0,
   "metadata": {
    "colab_type": "code"
   },
   "outputs": [],
   "source": [
    "model = TNPForwardFeedRegressionNetwork(blocks=[3, 3])\n",
    "model.compile(\n",
    "    optimizer=\"adam\",\n",
    "    loss=\"mean_squared_error\",\n",
    "    metrics=[keras.metrics.MeanAbsolutePercentageError()],\n",
    ")\n",
    "evaluate_model(model)"
   ]
  },
  {
   "cell_type": "markdown",
   "metadata": {
    "colab_type": "text"
   },
   "source": [
    "Great!  Our model seems to be effectively learning to solve the problem at hand.\n",
    "\n",
    "We can also write our own custom loss function using TNP."
   ]
  },
  {
   "cell_type": "code",
   "execution_count": 0,
   "metadata": {
    "colab_type": "code"
   },
   "outputs": [],
   "source": [
    "\n",
    "def tnp_mse(y_true, y_pred):\n",
    "    return tnp.mean(tnp.square(y_true - y_pred), axis=0)\n",
    "\n",
    "\n",
    "keras.backend.clear_session()\n",
    "model = TNPForwardFeedRegressionNetwork(blocks=[3, 3])\n",
    "model.compile(\n",
    "    optimizer=\"adam\",\n",
    "    loss=tnp_mse,\n",
    "    metrics=[keras.metrics.MeanAbsolutePercentageError()],\n",
    ")\n",
    "evaluate_model(model)"
   ]
  },
  {
   "cell_type": "markdown",
   "metadata": {
    "colab_type": "text"
   },
   "source": [
    "## Implementing a Keras Layer Based Model with TNP\n",
    "\n",
    "If desired, TNP can also be used in layer oriented Keras code structure.  Let's\n",
    "implement the same model, but using a layered approach!"
   ]
  },
  {
   "cell_type": "code",
   "execution_count": 0,
   "metadata": {
    "colab_type": "code"
   },
   "outputs": [],
   "source": [
    "\n",
    "def tnp_relu(x):\n",
    "    return tnp.maximum(x, 0)\n",
    "\n",
    "\n",
    "class TNPDense(keras.layers.Layer):\n",
    "    def __init__(self, units, activation=None):\n",
    "        super().__init__()\n",
    "        self.units = units\n",
    "        self.activation = activation\n",
    "\n",
    "    def build(self, input_shape):\n",
    "        self.w = self.add_weight(\n",
    "            name=\"weights\",\n",
    "            shape=(input_shape[1], self.units),\n",
    "            initializer=\"random_normal\",\n",
    "            trainable=True,\n",
    "        )\n",
    "        self.bias = self.add_weight(\n",
    "            name=\"bias\",\n",
    "            shape=(self.units,),\n",
    "            initializer=\"random_normal\",\n",
    "            trainable=True,\n",
    "        )\n",
    "\n",
    "    def call(self, inputs):\n",
    "        outputs = tnp.matmul(inputs, self.w) + self.bias\n",
    "        if self.activation:\n",
    "            return self.activation(outputs)\n",
    "        return outputs\n",
    "\n",
    "\n",
    "def create_layered_tnp_model():\n",
    "    return keras.Sequential(\n",
    "        [\n",
    "            TNPDense(3, activation=tnp_relu),\n",
    "            TNPDense(3, activation=tnp_relu),\n",
    "            TNPDense(1),\n",
    "        ]\n",
    "    )\n",
    "\n",
    "\n",
    "model = create_layered_tnp_model()\n",
    "model.compile(\n",
    "    optimizer=\"adam\",\n",
    "    loss=\"mean_squared_error\",\n",
    "    metrics=[keras.metrics.MeanAbsolutePercentageError()],\n",
    ")\n",
    "model.build((None, 13,))\n",
    "model.summary()\n",
    "\n",
    "evaluate_model(model)"
   ]
  },
  {
   "cell_type": "markdown",
   "metadata": {
    "colab_type": "text"
   },
   "source": [
    "You can also seamlessly switch between TNP layers and native Keras layers!"
   ]
  },
  {
   "cell_type": "code",
   "execution_count": 0,
   "metadata": {
    "colab_type": "code"
   },
   "outputs": [],
   "source": [
    "\n",
    "def create_mixed_model():\n",
    "    return keras.Sequential(\n",
    "        [\n",
    "            TNPDense(3, activation=tnp_relu),\n",
    "            # The model will have no issue using a normal Dense layer\n",
    "            layers.Dense(3, activation=\"relu\"),\n",
    "            # ... or switching back to tnp layers!\n",
    "            TNPDense(1),\n",
    "        ]\n",
    "    )\n",
    "\n",
    "\n",
    "model = create_mixed_model()\n",
    "model.compile(\n",
    "    optimizer=\"adam\",\n",
    "    loss=\"mean_squared_error\",\n",
    "    metrics=[keras.metrics.MeanAbsolutePercentageError()],\n",
    ")\n",
    "model.build((None, 13,))\n",
    "model.summary()\n",
    "\n",
    "evaluate_model(model)"
   ]
  },
  {
   "cell_type": "markdown",
   "metadata": {
    "colab_type": "text"
   },
   "source": [
    "The Keras API offers a wide variety of layers.  The ability to use them alongside NumPy\n",
    "code can be a huge time saver in projects."
   ]
  },
  {
   "cell_type": "markdown",
   "metadata": {
    "colab_type": "text"
   },
   "source": [
    "## Distribution Strategy\n",
    "\n",
    "TensorFlow NumPy and Keras integrate with\n",
    "[TensorFlow Distribution Strategies](https://www.tensorflow.org/guide/distributed_training).\n",
    "This makes it simple to perform distributed training across multiple GPUs,\n",
    "or even an entire TPU Pod."
   ]
  },
  {
   "cell_type": "code",
   "execution_count": 0,
   "metadata": {
    "colab_type": "code"
   },
   "outputs": [],
   "source": [
    "gpus = tf.config.list_logical_devices(\"GPU\")\n",
    "if gpus:\n",
    "    strategy = tf.distribute.MirroredStrategy(gpus)\n",
    "else:\n",
    "    # We can fallback to a no-op CPU strategy.\n",
    "    strategy = tf.distribute.get_strategy()\n",
    "print(\"Running with strategy:\", str(strategy.__class__.__name__))\n",
    "\n",
    "with strategy.scope():\n",
    "    model = create_layered_tnp_model()\n",
    "    model.compile(\n",
    "        optimizer=\"adam\",\n",
    "        loss=\"mean_squared_error\",\n",
    "        metrics=[keras.metrics.MeanAbsolutePercentageError()],\n",
    "    )\n",
    "    model.build((None, 13,))\n",
    "    model.summary()\n",
    "    evaluate_model(model)"
   ]
  },
  {
   "cell_type": "markdown",
   "metadata": {
    "colab_type": "text"
   },
   "source": [
    "## TensorBoard Integration\n",
    "\n",
    "One of the many benefits of using the Keras API is the ability to monitor training\n",
    "through TensorBoard.  Using the TensorFlow NumPy API alongside Keras allows you to easily\n",
    "leverage TensorBoard."
   ]
  },
  {
   "cell_type": "code",
   "execution_count": 0,
   "metadata": {
    "colab_type": "code"
   },
   "outputs": [],
   "source": [
    "keras.backend.clear_session()"
   ]
  },
  {
   "cell_type": "markdown",
   "metadata": {
    "colab_type": "text"
   },
   "source": [
    "To load the TensorBoard from a Jupyter notebook, you can run the following magic:\n",
    "```\n",
    "%load_ext tensorboard\n",
    "```"
   ]
  },
  {
   "cell_type": "code",
   "execution_count": 0,
   "metadata": {
    "colab_type": "code"
   },
   "outputs": [],
   "source": [
    "models = [\n",
    "    (TNPForwardFeedRegressionNetwork(blocks=[3, 3]), \"TNPForwardFeedRegressionNetwork\"),\n",
    "    (create_layered_tnp_model(), \"layered_tnp_model\"),\n",
    "    (create_mixed_model(), \"mixed_model\"),\n",
    "]\n",
    "for model, model_name in models:\n",
    "    model.compile(\n",
    "        optimizer=\"adam\",\n",
    "        loss=\"mean_squared_error\",\n",
    "        metrics=[keras.metrics.MeanAbsolutePercentageError()],\n",
    "    )\n",
    "    model.fit(\n",
    "        x_train,\n",
    "        y_train,\n",
    "        epochs=200,\n",
    "        verbose=0,\n",
    "        callbacks=[keras.callbacks.TensorBoard(log_dir=f\"logs/{model_name}\")],\n",
    "    )"
   ]
  },
  {
   "cell_type": "markdown",
   "metadata": {
    "colab_type": "text"
   },
   "source": [
    "To load the TensorBoard from a Jupyter notebook you can use the `%tensorboard` magic:\n",
    "\n",
    "```\n",
    "%tensorboard --logdir logs\n",
    "```\n",
    "\n",
    "The TensorBoard monitor metrics and examine the training curve.\n",
    "\n",
    "![Tensorboard training graph](https://i.imgur.com/wsOuFnz.png)\n",
    "\n",
    "The TensorBoard also allows you to explore the computation graph used in your models.\n",
    "\n",
    "![Tensorboard graph exploration](https://i.imgur.com/tOrezDL.png)\n",
    "\n",
    "The ability to introspect into your models can be valuable during debugging."
   ]
  },
  {
   "cell_type": "markdown",
   "metadata": {
    "colab_type": "text"
   },
   "source": [
    "## Conclusion\n",
    "\n",
    "Porting existing NumPy code to Keras models using the `tensorflow_numpy` API is easy!\n",
    "By integrating with Keras you gain the ability to use existing Keras callbacks, metrics\n",
    "and optimizers, easily distribute your training and use Tensorboard.\n",
    "\n",
    "Migrating a more complex model, such as a ResNet, to the TensorFlow NumPy API would be a\n",
    "great follow up learning exercise.\n",
    "\n",
    "Several open source NumPy ResNet implementations are available online."
   ]
  }
 ],
 "metadata": {
  "colab": {
   "collapsed_sections": [],
   "name": "tensorflow_numpy_models",
   "private_outputs": false,
   "provenance": [],
   "toc_visible": true
  },
  "kernelspec": {
   "display_name": "Python 3",
   "language": "python",
   "name": "python3"
  },
  "language_info": {
   "codemirror_mode": {
    "name": "ipython",
    "version": 3
   },
   "file_extension": ".py",
   "mimetype": "text/x-python",
   "name": "python",
   "nbconvert_exporter": "python",
   "pygments_lexer": "ipython3",
   "version": "3.7.0"
  }
 },
 "nbformat": 4,
 "nbformat_minor": 0
}